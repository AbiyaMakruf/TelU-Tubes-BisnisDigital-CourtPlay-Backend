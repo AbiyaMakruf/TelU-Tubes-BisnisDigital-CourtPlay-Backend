{
 "cells": [
  {
   "cell_type": "code",
   "execution_count": 3,
   "id": "c060ec25",
   "metadata": {},
   "outputs": [
    {
     "name": "stdout",
     "output_type": "stream",
     "text": [
      "1760448670_Untitled video - Made with Clipchamp.mp4\n"
     ]
    }
   ],
   "source": [
    "link = \"https://storage.googleapis.com/courtplay-storage/uploads/videos/a01ca3a9-345c-45ad-84cd-366f36af0c96/1760448670_Untitled video - Made with Clipchamp.mp4\"\n",
    "\n",
    "print(link.split(\"/\")[-1])"
   ]
  }
 ],
 "metadata": {
  "kernelspec": {
   "display_name": "thesis_env",
   "language": "python",
   "name": "python3"
  },
  "language_info": {
   "codemirror_mode": {
    "name": "ipython",
    "version": 3
   },
   "file_extension": ".py",
   "mimetype": "text/x-python",
   "name": "python",
   "nbconvert_exporter": "python",
   "pygments_lexer": "ipython3",
   "version": "3.12.11"
  }
 },
 "nbformat": 4,
 "nbformat_minor": 5
}
